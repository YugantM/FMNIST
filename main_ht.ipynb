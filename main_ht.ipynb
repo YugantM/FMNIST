{
  "nbformat": 4,
  "nbformat_minor": 0,
  "metadata": {
    "kernelspec": {
      "display_name": "Python 3",
      "language": "python",
      "name": "python3"
    },
    "language_info": {
      "codemirror_mode": {
        "name": "ipython",
        "version": 3
      },
      "file_extension": ".py",
      "mimetype": "text/x-python",
      "name": "python",
      "nbconvert_exporter": "python",
      "pygments_lexer": "ipython3",
      "version": "3.7.9"
    },
    "colab": {
      "name": "main.ipynb",
      "private_outputs": true,
      "provenance": [],
      "collapsed_sections": [],
      "include_colab_link": true
    },
    "accelerator": "GPU"
  },
  "cells": [
    {
      "cell_type": "markdown",
      "metadata": {
        "id": "view-in-github",
        "colab_type": "text"
      },
      "source": [
        "<a href=\"https://colab.research.google.com/github/YugantM/FMNIST/blob/main/main_ht.ipynb\" target=\"_parent\"><img src=\"https://colab.research.google.com/assets/colab-badge.svg\" alt=\"Open In Colab\"/></a>"
      ]
    },
    {
      "cell_type": "code",
      "metadata": {
        "id": "zAz8KAQwzc6k"
      },
      "source": [
        "!pip install keras-tcn"
      ],
      "execution_count": null,
      "outputs": []
    },
    {
      "cell_type": "code",
      "metadata": {
        "id": "DeiyDq5-EBpk"
      },
      "source": [
        "import tensorflow as tf\n",
        "import numpy as np\n",
        "import matplotlib.pyplot as plt\n",
        "from keras.datasets import mnist\n",
        "from keras.utils import to_categorical\n",
        "from tcn import compiled_tcn\n",
        "import gzip\n",
        "import sys"
      ],
      "execution_count": null,
      "outputs": []
    },
    {
      "cell_type": "code",
      "metadata": {
        "id": "rVEX6mt2nzY3"
      },
      "source": [
        "import _pickle as cPickle"
      ],
      "execution_count": null,
      "outputs": []
    },
    {
      "cell_type": "code",
      "metadata": {
        "id": "eF5U_SEZqJ_e"
      },
      "source": [
        "import numpy as np"
      ],
      "execution_count": null,
      "outputs": []
    },
    {
      "cell_type": "code",
      "metadata": {
        "id": "k1A6F9w2qUzi"
      },
      "source": [
        "def load_data(image_path,label_path, kind='train'):\n",
        "\n",
        "\n",
        "    with gzip.open(label_path, 'rb') as lbpath:\n",
        "        labels = np.frombuffer(lbpath.read(), dtype=np.uint8,\n",
        "                               offset=8)\n",
        "\n",
        "    with gzip.open(image_path, 'rb') as imgpath:\n",
        "        images = np.frombuffer(imgpath.read(), dtype=np.uint8,\n",
        "                               offset=16).reshape(len(labels), 784)\n",
        "\n",
        "    return images, labels"
      ],
      "execution_count": null,
      "outputs": []
    },
    {
      "cell_type": "code",
      "metadata": {
        "id": "DUU12PRUlq-v"
      },
      "source": [
        "from google.colab import drive\n",
        "drive.mount(\"/content/gdrive/\")"
      ],
      "execution_count": null,
      "outputs": []
    },
    {
      "cell_type": "code",
      "metadata": {
        "id": "Fy2bm-RLmK5E"
      },
      "source": [
        "train_image = \"gdrive/MyDrive/FashionMNIST/train-images.gz\"\n",
        "train_label = \"gdrive/MyDrive/FashionMNIST/train-labels.gz\"\n",
        "test_image = \"gdrive/MyDrive/FashionMNIST/test-images.gz\"\n",
        "test_label = \"gdrive/MyDrive/FashionMNIST/test-labels.gz\""
      ],
      "execution_count": null,
      "outputs": []
    },
    {
      "cell_type": "code",
      "metadata": {
        "id": "tvC3j01bmWvV"
      },
      "source": [
        "(train_images, train_labels) = load_data(train_image,train_label)\n",
        "(test_images, test_labels) = load_data(test_image,test_label)"
      ],
      "execution_count": null,
      "outputs": []
    },
    {
      "cell_type": "code",
      "metadata": {
        "id": "IxK44avMrm-t"
      },
      "source": [
        "'''train_images = tf.reshape(train_images, shape=[-1, 28, 28])\n",
        "test_images = tf.reshape(test_images, shape=[-1, 28, 28])'''"
      ],
      "execution_count": null,
      "outputs": []
    },
    {
      "cell_type": "code",
      "metadata": {
        "id": "h_h5PoUssVni"
      },
      "source": [
        "plt.imshow(train_images[0].reshape([28,28]))"
      ],
      "execution_count": null,
      "outputs": []
    },
    {
      "cell_type": "code",
      "metadata": {
        "id": "2V8qm08VEBpm"
      },
      "source": [
        "# following command if getting SSL error while loading the dataset\n",
        "#!open /Applications/Python\\ 3.7/Install\\ Certificates.command"
      ],
      "execution_count": null,
      "outputs": []
    },
    {
      "cell_type": "code",
      "metadata": {
        "id": "XBkdf2K4EBpn"
      },
      "source": [
        "class_names = ['T-shirt/top', 'Trouser', 'Pullover', 'Dress', 'Coat',\n",
        "               'Sandal', 'Shirt', 'Sneaker', 'Bag', 'Ankle boot']"
      ],
      "execution_count": null,
      "outputs": []
    },
    {
      "cell_type": "code",
      "metadata": {
        "id": "AaQP4TgyEBpn"
      },
      "source": [
        "train_images = tf.cast(train_images, tf.float32) / 255.0\n",
        "test_images = tf.cast(test_images, tf.float32) / 255.0"
      ],
      "execution_count": null,
      "outputs": []
    },
    {
      "cell_type": "code",
      "metadata": {
        "id": "xF3lh_LqEBpn"
      },
      "source": [
        "for x in range(5):\n",
        "    print(class_names[train_labels[x]])\n",
        "    plt.imshow(tf.reshape(train_images[x],(28,28)),cmap=plt.cm.binary)\n",
        "    plt.show()"
      ],
      "execution_count": null,
      "outputs": []
    },
    {
      "cell_type": "code",
      "metadata": {
        "id": "tSxd9mIaEBpq"
      },
      "source": [
        "train_data = train_images\n",
        "test_data = test_images\n",
        "model = compiled_tcn(return_sequences=False,\n",
        "                         num_feat=1,\n",
        "                         num_classes=10,\n",
        "                         nb_filters=20,\n",
        "                         kernel_size=6,\n",
        "                         dilations=[2 ** i for i in range(9)],\n",
        "                         nb_stacks=1,\n",
        "                         max_len=train_data[0:1].shape[1],\n",
        "                         use_skip_connections=True)"
      ],
      "execution_count": null,
      "outputs": []
    },
    {
      "cell_type": "code",
      "metadata": {
        "id": "WdCijcGwxrUo"
      },
      "source": [
        "print(model.input.shape, train_images[0:1].shape)"
      ],
      "execution_count": null,
      "outputs": []
    },
    {
      "cell_type": "code",
      "metadata": {
        "id": "fKJIJf4sEBpr"
      },
      "source": [
        "print(f'x_train.shape = {train_images.shape}')\n",
        "print(f'y_train.shape = {train_labels.shape}')\n",
        "print(f'x_test.shape = {test_images.shape}')\n",
        "print(f'y_test.shape = {test_labels.shape}')"
      ],
      "execution_count": null,
      "outputs": []
    },
    {
      "cell_type": "code",
      "metadata": {
        "id": "Gyu_QX2FEBpr"
      },
      "source": [
        "model.summary()"
      ],
      "execution_count": null,
      "outputs": []
    },
    {
      "cell_type": "code",
      "metadata": {
        "id": "tLCLmwT9EBpr"
      },
      "source": [
        "history = model.fit(train_data, train_labels, epochs=10,validation_data=(test_data, test_labels))"
      ],
      "execution_count": null,
      "outputs": []
    },
    {
      "cell_type": "code",
      "metadata": {
        "id": "wbCU7dTUEBps"
      },
      "source": [
        "def predict(model,image):\n",
        "\n",
        "  accuracy = max(model.predict(tf.reshape(image,(1,784)))[0])*100\n",
        "  pc = model.predict(tf.reshape(image,(1,784))).argmax(-1)[0]\n",
        "  name = class_names[pc]\n",
        "\n",
        "  print(pc,name,\" accuracy:\", accuracy,\"%\")\n",
        "  plt.imshow(tf.reshape(image,(28,28)),cmap=plt.cm.binary)\n",
        "  plt.show()"
      ],
      "execution_count": null,
      "outputs": []
    },
    {
      "cell_type": "code",
      "metadata": {
        "id": "Yhc4gxPdQI3_"
      },
      "source": [
        "for x in test_images[:30]:\n",
        "  predict(model,x)"
      ],
      "execution_count": null,
      "outputs": []
    },
    {
      "cell_type": "code",
      "metadata": {
        "id": "Rhyuhr5HRmOE"
      },
      "source": [
        "plt.plot(history.history['loss'], label='Train Loss')\n",
        "plt.plot(history.history['val_loss'], label='Val Loss')\n",
        "plt.title('Training History')\n",
        "plt.ylabel('Loss')\n",
        "plt.xlabel('No. epoch')\n",
        "plt.legend(loc=\"upper left\")\n",
        "plt.show()"
      ],
      "execution_count": null,
      "outputs": []
    },
    {
      "cell_type": "code",
      "metadata": {
        "id": "Z3UiI6naULok"
      },
      "source": [
        "plt.plot(history.history['accuracy'], label='Train Accuracy')\n",
        "plt.plot(history.history['val_accuracy'], label='Val Accuracy')\n",
        "plt.title('Training Accuracy')\n",
        "plt.ylabel('Accuracy')\n",
        "plt.xlabel('No. epoch')\n",
        "plt.legend(loc=\"upper left\")\n",
        "plt.show()"
      ],
      "execution_count": null,
      "outputs": []
    },
    {
      "cell_type": "code",
      "metadata": {
        "id": "QU-vxL4AUtyH"
      },
      "source": [
        "print(\"Model's training and validation accuracys are {0}% and {1}% respectively\".format(history.history['accuracy'][-1]*100,history.history['val_accuracy'][-1]*100))"
      ],
      "execution_count": null,
      "outputs": []
    },
    {
      "cell_type": "code",
      "metadata": {
        "id": "qn59WoWEmI4g"
      },
      "source": [
        "!jupyter nbconvert --to html main_ht.ipynb"
      ],
      "execution_count": null,
      "outputs": []
    },
    {
      "cell_type": "code",
      "metadata": {
        "id": "HJDbvO8KqTCJ"
      },
      "source": [
        ""
      ],
      "execution_count": null,
      "outputs": []
    }
  ]
}